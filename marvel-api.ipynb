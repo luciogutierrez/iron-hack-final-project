{
 "metadata": {
  "language_info": {
   "codemirror_mode": {
    "name": "ipython",
    "version": 3
   },
   "file_extension": ".py",
   "mimetype": "text/x-python",
   "name": "python",
   "nbconvert_exporter": "python",
   "pygments_lexer": "ipython3",
   "version": "3.9.5"
  },
  "orig_nbformat": 2,
  "kernelspec": {
   "name": "python395jvsc74a57bd0376f5b0795f81aa7b5d99e448d6274743a66c9892fd26cf11e505993f41df5fa",
   "display_name": "Python 3.9.5 64-bit"
  }
 },
 "nbformat": 4,
 "nbformat_minor": 2,
 "cells": [
  {
   "cell_type": "code",
   "execution_count": 1,
   "metadata": {},
   "outputs": [],
   "source": [
    "import requests\n",
    "import pandas as pd"
   ]
  },
  {
   "cell_type": "code",
   "execution_count": 6,
   "metadata": {},
   "outputs": [],
   "source": [
    "def url_fun(*args):\n",
    "    url = 'http://gateway.marvel.com/'\n",
    "    return url + '/'.join(args)\n",
    "\n",
    "# get credentials\n",
    "def get_key(key):\n",
    "    with open('C:/Windows/AppsKeys/Marvel/'+key+'.key', 'r') as file_read:\n",
    "        app_key = file_read.readline()\n",
    "    return app_key\n",
    "\n",
    "# get data from url\n",
    "def get_data_from_url():\n",
    "    # get credentials\n",
    "    apikey = get_key('apikey')\n",
    "    ts = get_key('ts')\n",
    "    hash = get_key('hash')\n",
    "    # get url full path\n",
    "    url = url_fun('v1', 'public', 'characters')\n",
    "    # request data from url\n",
    "    args = {'apikey': apikey,\n",
    "            'ts': ts,\n",
    "            'hash': hash}\n",
    "    headers = {'Content-Type': 'application/json'}\n",
    "    response = requests.get(url, params=args, headers=headers)\n",
    "    # built a dictionary object with response\n",
    "    print(response.status_code)\n",
    "    if response.status_code == 200:\n",
    "        response = response.json()\n",
    "    # return dictionary object\n",
    "    return response\n"
   ]
  },
  {
   "cell_type": "code",
   "execution_count": 7,
   "metadata": {},
   "outputs": [
    {
     "output_type": "stream",
     "name": "stdout",
     "text": [
      "200\n"
     ]
    }
   ],
   "source": [
    "response_dict = get_data_from_url()\n",
    "list_data_results = response_dict['data']['results']\n"
   ]
  },
  {
   "cell_type": "code",
   "execution_count": 8,
   "metadata": {},
   "outputs": [],
   "source": [
    "heros = {\"data\":[]}\n",
    "\n",
    "def add_hero(hero):\n",
    "    heros[\"data\"].append(hero)\n",
    "\n",
    "for hero in list_data_results:\n",
    "    imageUrl = ''\n",
    "    imageUrl += hero['thumbnail']['path']\n",
    "    imageUrl += '.'\n",
    "    imageUrl += hero['thumbnail']['extension']\n",
    "    item = {}\n",
    "    item['hero_id'] = hero['id']\n",
    "    item['hero_name'] = hero['name']\n",
    "    item['hero_desc'] = hero['description']\n",
    "    item['modified'] = hero['modified']\n",
    "    item['hero_img'] = imageUrl\n",
    "    item['hero_url'] = hero['urls'][0]['url']\n",
    "    add_hero(item)"
   ]
  },
  {
   "cell_type": "code",
   "execution_count": 9,
   "metadata": {},
   "outputs": [
    {
     "output_type": "stream",
     "name": "stdout",
     "text": [
      "         Id                        Name  \\\n0   1011334                     3-D Man   \n1   1017100                A-Bomb (HAS)   \n2   1009144                      A.I.M.   \n3   1010699                 Aaron Stack   \n4   1009146  Abomination (Emil Blonsky)   \n5   1016823      Abomination (Ultimate)   \n6   1009148               Absorbing Man   \n7   1009149                       Abyss   \n8   1010903   Abyss (Age of Apocalypse)   \n9   1011266                Adam Destine   \n10  1010354                Adam Warlock   \n11  1010846        Aegis (Trey Rollins)   \n12  1011297                 Agent Brand   \n13  1011031              Agent X (Nijo)   \n14  1009150                  Agent Zero   \n15  1011198             Agents of Atlas   \n16  1011175                      Aginar   \n17  1011136    Air-Walker (Gabriel Lan)   \n18  1011176                        Ajak   \n19  1010870                      Ajaxis   \n\n                                          Description  \\\n0                                                       \n1   Rick Jones has been Hulk's best bud since day ...   \n2   AIM is a terrorist organization bent on destro...   \n3                                                       \n4   Formerly known as Emil Blonsky, a spy of Sovie...   \n5                                                       \n6                                                       \n7                                                       \n8                                                       \n9                                                       \n10  Adam Warlock is an artificially created human ...   \n11                                                      \n12                                                      \n13  Originally a partner of the mind-altering assa...   \n14                                                      \n15                                                      \n16                                                      \n17                                                      \n18                                                      \n19                                                      \n\n                    Modified  \\\n0   2014-04-29T14:18:17-0400   \n1   2013-09-18T15:54:04-0400   \n2   2013-10-17T14:41:30-0400   \n3   1969-12-31T19:00:00-0500   \n4   2012-03-20T12:32:12-0400   \n5   2012-07-10T19:11:52-0400   \n6   2013-10-24T14:32:08-0400   \n7   2014-04-29T14:10:43-0400   \n8   1969-12-31T19:00:00-0500   \n9   1969-12-31T19:00:00-0500   \n10  2013-08-07T13:49:06-0400   \n11  1969-12-31T19:00:00-0500   \n12  2013-10-24T13:09:30-0400   \n13  1969-12-31T19:00:00-0500   \n14  1969-12-31T19:00:00-0500   \n15  2016-02-03T10:25:22-0500   \n16  1969-12-31T19:00:00-0500   \n17  1969-12-31T19:00:00-0500   \n18  1969-12-31T19:00:00-0500   \n19  1969-12-31T19:00:00-0500   \n\n                                            Image URL  \\\n0   http://i.annihil.us/u/prod/marvel/i/mg/c/e0/53...   \n1   http://i.annihil.us/u/prod/marvel/i/mg/3/20/52...   \n2   http://i.annihil.us/u/prod/marvel/i/mg/6/20/52...   \n3   http://i.annihil.us/u/prod/marvel/i/mg/b/40/im...   \n4   http://i.annihil.us/u/prod/marvel/i/mg/9/50/4c...   \n5   http://i.annihil.us/u/prod/marvel/i/mg/b/40/im...   \n6   http://i.annihil.us/u/prod/marvel/i/mg/1/b0/52...   \n7   http://i.annihil.us/u/prod/marvel/i/mg/9/30/53...   \n8   http://i.annihil.us/u/prod/marvel/i/mg/3/80/4c...   \n9   http://i.annihil.us/u/prod/marvel/i/mg/b/40/im...   \n10  http://i.annihil.us/u/prod/marvel/i/mg/a/f0/52...   \n11  http://i.annihil.us/u/prod/marvel/i/mg/5/e0/4c...   \n12  http://i.annihil.us/u/prod/marvel/i/mg/4/60/52...   \n13  http://i.annihil.us/u/prod/marvel/i/mg/b/40/im...   \n14  http://i.annihil.us/u/prod/marvel/i/mg/f/60/4c...   \n15  http://i.annihil.us/u/prod/marvel/i/mg/9/a0/4c...   \n16  http://i.annihil.us/u/prod/marvel/i/mg/b/40/im...   \n17  http://i.annihil.us/u/prod/marvel/i/mg/b/40/im...   \n18  http://i.annihil.us/u/prod/marvel/i/mg/2/80/4c...   \n19  http://i.annihil.us/u/prod/marvel/i/mg/b/70/4c...   \n\n                                                  URL  \n0   http://marvel.com/comics/characters/1011334/3-...  \n1   http://marvel.com/characters/76/a-bomb?utm_cam...  \n2   http://marvel.com/characters/77/aim.?utm_campa...  \n3   http://marvel.com/characters/2809/aaron_stack?...  \n4   http://marvel.com/characters/81/abomination?ut...  \n5   http://marvel.com/characters/81/abomination?ut...  \n6   http://marvel.com/characters/84/absorbing_man?...  \n7   http://marvel.com/characters/85/abyss?utm_camp...  \n8   http://marvel.com/characters/85/abyss?utm_camp...  \n9   http://marvel.com/characters/2902/adam_destine...  \n10  http://marvel.com/comics/characters/1010354/ad...  \n11  http://marvel.com/characters/95/aegis?utm_camp...  \n12  http://marvel.com/comics/characters/1011297/ag...  \n13  http://marvel.com/characters/101/agent_x?utm_c...  \n14  http://marvel.com/characters/102/agent_zero?ut...  \n15  http://marvel.com/comics/characters/1011198/ag...  \n16  http://marvel.com/characters/105/aginar?utm_ca...  \n17  http://marvel.com/characters/109/air-walker?ut...  \n18  http://marvel.com/characters/111/ajak?utm_camp...  \n19  http://marvel.com/characters/113/ajaxis?utm_ca...  \n"
     ]
    }
   ],
   "source": [
    "df_headers = ('Id','Name','Description','Modified','Image URL','URL')\n",
    "df_hero = pd.DataFrame(heros['data'][0].values()).transpose()\n",
    "for i in range(1, len(list_data_results)):\n",
    "    df_next = pd.DataFrame(heros['data'][i].values()).transpose()\n",
    "    df_hero = df_hero.append(df_next, ignore_index=True)\n",
    "df_hero.columns = df_headers    \n",
    "print(df_hero)"
   ]
  },
  {
   "cell_type": "code",
   "execution_count": null,
   "metadata": {},
   "outputs": [],
   "source": []
  }
 ]
}